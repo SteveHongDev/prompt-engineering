{
 "cells": [
  {
   "cell_type": "code",
   "execution_count": 1,
   "id": "21a5eaa4",
   "metadata": {},
   "outputs": [],
   "source": [
    "import openai\n",
    "import os\n",
    "\n",
    "from dotenv import load_dotenv, find_dotenv\n",
    "_ = load_dotenv(find_dotenv())\n",
    "\n",
    "openai.api_key = os.getenv('OPENAI_API_KEY')\n",
    "\n",
    "def get_completion(prompt, model=\"gpt-3.5-turbo\"):\n",
    "    messages = [{\"role\": \"user\", \"content\": prompt}]\n",
    "    response = openai.ChatCompletion.create(\n",
    "        model=model,\n",
    "        messages=messages,\n",
    "        temperature=0, # this is the degree of randomness of the model's output\n",
    "    )\n",
    "    return response.choices[0].message[\"content\"]"
   ]
  },
  {
   "cell_type": "code",
   "execution_count": 5,
   "id": "721a2256",
   "metadata": {},
   "outputs": [
    {
     "name": "stdout",
     "output_type": "stream",
     "text": [
      "Doe, John\n"
     ]
    }
   ],
   "source": [
    "# Giving Instructions EX1\n",
    "\n",
    "text = f\"\"\"\n",
    "john doe\n",
    "\"\"\"\n",
    "prompt = f\"\"\"\n",
    "A user has input their first and last name into a form.\n",
    "We don't know in which order their first/last name is,\n",
    "but we need it to be in the format 'Last, First'. Convert the following:\n",
    "\n",
    "{text}\n",
    "\"\"\"\n",
    "response = get_completion(prompt)\n",
    "print(response)"
   ]
  },
  {
   "cell_type": "code",
   "execution_count": 7,
   "id": "74e39d43",
   "metadata": {},
   "outputs": [
    {
     "name": "stdout",
     "output_type": "stream",
     "text": [
      "Hi [NAME],\n",
      "\n",
      "I'm writing to you because I noticed you recently purchased a new car. I'm a salesperson\n",
      "at a local dealership ([DEALERSHIP NAME]), and I wanted to let you know that we have a great deal on a new\n",
      "car. If you're interested, please let me know.\n",
      "\n",
      "Thanks,\n",
      "\n",
      "[SALESPERSON NAME]\n",
      "\n",
      "Phone: [PHONE NUMBER]\n",
      "Email: [EMAIL ADDRESS]\n"
     ]
    }
   ],
   "source": [
    "# Giving Instructions EX2\n",
    "\n",
    "prompt = f\"\"\"\n",
    "Read the following sales email. Remove any personally identifiable information (PII),\n",
    "and replace it with the appropriate placeholder. For example, replace the name \"John Doe\"\n",
    "with \"[NAME]\". Also, check the PII of salesperson and dealership.\n",
    "\n",
    "Hi John,\n",
    "\n",
    "I'm writing to you because I noticed you recently purchased a new car. I'm a salesperson\n",
    "at a local dealership (Cheap Dealz), and I wanted to let you know that we have a great deal on a new\n",
    "car. If you're interested, please let me know.\n",
    "\n",
    "Thanks,\n",
    "\n",
    "Jimmy Smith\n",
    "\n",
    "Phone: 410-805-2345\n",
    "Email: jimmysmith@cheapdealz.com\n",
    "\"\"\"\n",
    "\n",
    "response = get_completion(prompt)\n",
    "print(response)"
   ]
  },
  {
   "cell_type": "code",
   "execution_count": 20,
   "id": "0ff820a1",
   "metadata": {},
   "outputs": [
    {
     "name": "stdout",
     "output_type": "stream",
     "text": [
      "((100*100)/400)*56 = 1400\n"
     ]
    }
   ],
   "source": [
    "# Few-shot Prompting\n",
    "\n",
    "prompt = f\"\"\"\n",
    "Q: What is 3*4/2*4?\n",
    "A: ((3*4)/2)*4 = 24\n",
    "Q: What is 6*8/2*5?\n",
    "A: ((6*8)/2)*5 = 120\n",
    "Q: What is 10*20/5*24?\n",
    "A: ((10*20)/5)*24 = 960\n",
    "Q: What is 100*100/400*56?\n",
    "A:\n",
    "\"\"\"\n",
    "\n",
    "response = get_completion(prompt)\n",
    "print(response)"
   ]
  },
  {
   "cell_type": "code",
   "execution_count": 22,
   "id": "ed145c30",
   "metadata": {},
   "outputs": [
    {
     "name": "stdout",
     "output_type": "stream",
     "text": [
      "Without Role Prompting\n",
      " Apple is a round or oval-shaped fruit with a red, green, or yellow skin and a white, juicy flesh. It is a popular fruit that is widely cultivated and consumed around the world. Apples are rich in fiber, vitamins, and antioxidants, and are often eaten raw, cooked, or used in various dishes and desserts. \n",
      "---\n",
      "Role Prompting\n",
      " An apple is a round fruit that is usually red, green, or yellow on the outside. It has a stem on the top and a core in the middle with seeds. Apples are sweet and juicy and can be eaten raw or cooked in many different ways. They are also very healthy and good for our bodies! \n",
      "---\n"
     ]
    }
   ],
   "source": [
    "# Role Prompting\n",
    "\n",
    "text = f\"\"\"\n",
    "What is the fruit, apple?\n",
    "\"\"\"\n",
    "\n",
    "prompt = f\"\"\"\n",
    "You are a kindergarten teacher. Answer to the 5-year-old students:\n",
    "{text}\n",
    "\"\"\"\n",
    "\n",
    "response = get_completion(text)\n",
    "print(\"Without Role Prompting\\n\", response, \"\\n---\")\n",
    "response = get_completion(prompt)\n",
    "print(\"Role Prompting\\n\", response, \"\\n---\")"
   ]
  },
  {
   "cell_type": "code",
   "execution_count": 26,
   "id": "01e2f2e7",
   "metadata": {},
   "outputs": [
    {
     "name": "stdout",
     "output_type": "stream",
     "text": [
      "<Few shot only>\n",
      " positive \n",
      "---\n",
      "<Role + Few shot>\n",
      " negative \n",
      "---\n"
     ]
    }
   ],
   "source": [
    "# Combining Techniques\n",
    "\n",
    "role = f\"\"\"\n",
    "You have to answer the opposite.\n",
    "\"\"\"\n",
    "\n",
    "fewShot = f\"\"\"\n",
    "\n",
    "Q: Tweet: \"What a beautiful day!\"\n",
    "Is this tweet positive or negative?\n",
    "\n",
    "A: negative\n",
    "\n",
    "Q: Tweet: \"I love pockets on jeans\"\n",
    "Is this tweet positive or negative?\n",
    "A:\n",
    "\"\"\"\n",
    "\n",
    "combine = f\"\"\"\n",
    "{role}\n",
    "\n",
    "{fewShot}\n",
    "\"\"\"\n",
    "\n",
    "response = get_completion(fewShot)\n",
    "print(\"<Few shot only>\\n\", response, \"\\n---\")\n",
    "\n",
    "response = get_completion(combine)\n",
    "print(\"<Role + Few shot>\\n\", response, \"\\n---\")"
   ]
  },
  {
   "cell_type": "code",
   "execution_count": 27,
   "id": "d4ad75a9",
   "metadata": {},
   "outputs": [
    {
     "name": "stdout",
     "output_type": "stream",
     "text": [
      "| Metric             | Value          |\n",
      "|--------------------|----------------|\n",
      "| Revenue            | $50 million    |\n",
      "| Profit Margin      | 12%            |\n",
      "| Net Profit         | $6 million     |\n",
      "| Customer Base      | 100,000        |\n",
      "| Operating Expenses | $10 million    |\n",
      "| Employee Headcount | 500            |\n",
      "| Revenue Growth     | 15%            |\n",
      "| Customer Growth    | 20%            |\n",
      "| Expense Growth     | 10%            |\n",
      "| Employee Growth    | 25%            |\n"
     ]
    }
   ],
   "source": [
    "# Structuring Data (source: https://learnprompting.org/docs/basic_applications/table_generation)\n",
    "\n",
    "prompt = f\"\"\"\n",
    "In a recent business report presentation, the CEO of Zana Corp. \\\n",
    "highlighted their remarkable growth in the past fiscal year. \\\n",
    "She shared that the company experienced a 15% increase in revenue, reaching $50 million, \\\n",
    "with a 12% profit margin ($6 million in net profit). \\\n",
    "The report also showcased a 20% growth in their customer base, now totaling 100,000 customers. \\\n",
    "Additionally, the company's operating expenses went up by 10%, amounting to $10 million, \\\n",
    "while the employee headcount increased by 25%, resulting in a current workforce of 500 employees. \n",
    "\n",
    "Generate a table containing this information:\n",
    "\"\"\"\n",
    "\n",
    "\n",
    "response = get_completion(prompt)\n",
    "print(response)"
   ]
  },
  {
   "cell_type": "code",
   "execution_count": null,
   "id": "254f48c1",
   "metadata": {},
   "outputs": [],
   "source": []
  }
 ],
 "metadata": {
  "kernelspec": {
   "display_name": "Python 3 (ipykernel)",
   "language": "python",
   "name": "python3"
  },
  "language_info": {
   "codemirror_mode": {
    "name": "ipython",
    "version": 3
   },
   "file_extension": ".py",
   "mimetype": "text/x-python",
   "name": "python",
   "nbconvert_exporter": "python",
   "pygments_lexer": "ipython3",
   "version": "3.11.3"
  }
 },
 "nbformat": 4,
 "nbformat_minor": 5
}
